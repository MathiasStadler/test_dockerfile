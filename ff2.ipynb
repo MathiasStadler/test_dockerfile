{
 "cells": [
  {
   "cell_type": "markdown",
   "metadata": {},
   "source": [
    "* Install Firefox w/o snap inside docker container"
   ]
  },
  {
   "cell_type": "code",
   "execution_count": null,
   "metadata": {
    "vscode": {
     "languageId": "shellscript"
    }
   },
   "outputs": [],
   "source": [
    "* Download FF latest"
   ]
  },
  {
   "cell_type": "code",
   "execution_count": 1,
   "metadata": {
    "vscode": {
     "languageId": "shellscript"
    }
   },
   "outputs": [
    {
     "name": "stdout",
     "output_type": "stream",
     "text": [
      "--2023-10-11 14:42:41--  https://download.mozilla.org/?product=firefox-latest-ssl&os=linux64&lang=en-US\n",
      "Auflösen des Hostnamens download.mozilla.org (download.mozilla.org) … 3.221.209.248, 54.175.233.201, 52.5.41.245\n",
      "Verbindungsaufbau zu download.mozilla.org (download.mozilla.org)|3.221.209.248|:443 … verbunden.\n",
      "HTTP-Anforderung gesendet, auf Antwort wird gewartet … 302 Found\n",
      "Platz: https://download-installer.cdn.mozilla.net/pub/firefox/releases/118.0.2/linux-x86_64/en-US/firefox-118.0.2.tar.bz2 [folgend]\n",
      "--2023-10-11 14:42:42--  https://download-installer.cdn.mozilla.net/pub/firefox/releases/118.0.2/linux-x86_64/en-US/firefox-118.0.2.tar.bz2\n",
      "Auflösen des Hostnamens download-installer.cdn.mozilla.net (download-installer.cdn.mozilla.net) … 34.117.35.28\n",
      "Verbindungsaufbau zu download-installer.cdn.mozilla.net (download-installer.cdn.mozilla.net)|34.117.35.28|:443 … verbunden.\n",
      "HTTP-Anforderung gesendet, auf Antwort wird gewartet … 200 OK\n",
      "Länge: 80078075 (76M) [application/x-tar]\n",
      "Wird in ‘firefox-118.0.2.tar.bz2’ gespeichert.\n",
      "\n",
      "firefox-118.0.2.tar 100%[===================>]  76,37M  12,0MB/s    in 6,4s    \n",
      "\n",
      "2023-10-11 14:42:48 (12,0 MB/s) - ‘firefox-118.0.2.tar.bz2’ gespeichert [80078075/80078075]\n",
      "\n"
     ]
    }
   ],
   "source": [
    "wget --content-disposition \"https://download.mozilla.org/?product=firefox-latest-ssl&os=linux64&lang=en-US\""
   ]
  },
  {
   "cell_type": "markdown",
   "metadata": {},
   "source": [
    "* extracted *.tar.bz2"
   ]
  },
  {
   "cell_type": "code",
   "execution_count": null,
   "metadata": {
    "vscode": {
     "languageId": "shellscript"
    }
   },
   "outputs": [],
   "source": [
    "#tar -xvjf <*.tar.bz2>\n",
    "ls -tr *tar.bz2\n",
    "tar -xvjf $(ls -tr *tar.bz2)"
   ]
  }
 ],
 "metadata": {
  "kernelspec": {
   "display_name": "Bash",
   "language": "bash",
   "name": "bash"
  },
  "language_info": {
   "codemirror_mode": "shell",
   "file_extension": ".sh",
   "mimetype": "text/x-sh",
   "name": "bash"
  }
 },
 "nbformat": 4,
 "nbformat_minor": 2
}
