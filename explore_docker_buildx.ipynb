{
 "cells": [
  {
   "cell_type": "code",
   "execution_count": null,
   "metadata": {
    "vscode": {
     "languageId": "shellscript"
    }
   },
   "outputs": [],
   "source": []
  },
  {
   "cell_type": "markdown",
   "metadata": {},
   "source": [
    "# Test docker container buildx "
   ]
  },
  {
   "cell_type": "markdown",
   "metadata": {},
   "source": [
    "[FROM HERE](https://www.baeldung.com/linux/docker-container-gui-applications)"
   ]
  },
  {
   "cell_type": "code",
   "execution_count": 9,
   "metadata": {
    "vscode": {
     "languageId": "shellscript"
    }
   },
   "outputs": [],
   "source": [
    "# set DISPLAY inside current terminal\n",
    "export DISPLAY=:0"
   ]
  },
  {
   "cell_type": "code",
   "execution_count": null,
   "metadata": {
    "vscode": {
     "languageId": "shellscript"
    }
   },
   "outputs": [],
   "source": [
    "# inside current terminal allow DISPLAY\n",
    "xhost +"
   ]
  },
  {
   "cell_type": "markdown",
   "metadata": {},
   "source": [
    "# write dockerfile"
   ]
  },
  {
   "cell_type": "code",
   "execution_count": 2,
   "metadata": {
    "vscode": {
     "languageId": "shellscript"
    }
   },
   "outputs": [],
   "source": [
    "cat << 'EOF' > ./dockerfile_1 \n",
    "FROM    ubuntu\n",
    "RUN     apt-get update && apt-get install -qqy x11-apps\n",
    "CMD     xeyes\n",
    "EOF"
   ]
  },
  {
   "cell_type": "code",
   "execution_count": 3,
   "metadata": {
    "vscode": {
     "languageId": "shellscript"
    }
   },
   "outputs": [
    {
     "name": "stdout",
     "output_type": "stream",
     "text": [
      "FROM    ubuntu\n",
      "RUN     apt-get update && apt-get install -qqy x11-apps\n",
      "CMD     xeyes\n"
     ]
    }
   ],
   "source": [
    "cat ./dockerfile_1"
   ]
  },
  {
   "cell_type": "code",
   "execution_count": 4,
   "metadata": {
    "vscode": {
     "languageId": "shellscript"
    }
   },
   "outputs": [
    {
     "name": "stdout",
     "output_type": "stream",
     "text": [
      "/home/trapapa/test_dockerfile\n"
     ]
    }
   ],
   "source": [
    "pwd"
   ]
  },
  {
   "cell_type": "markdown",
   "metadata": {},
   "source": [
    "# build docker container"
   ]
  },
  {
   "cell_type": "code",
   "execution_count": 6,
   "metadata": {
    "vscode": {
     "languageId": "shellscript"
    }
   },
   "outputs": [
    {
     "name": "stdout",
     "output_type": "stream",
     "text": [
      "\u001b[1A\u001b[1B\u001b[0G\u001b[?25l[+] Building 0.0s (0/0)                                          docker:default\n",
      "\u001b[?25h\u001b[1A\u001b[0G\u001b[?25l[+] Building 0.1s (2/3)                                          docker:default\n",
      "\u001b[34m => [internal] load .dockerignore                                          0.0s\n",
      "\u001b[0m\u001b[34m => => transferring context: 2B                                            0.0s\n",
      "\u001b[0m\u001b[34m => [internal] load build definition from dockerfile_1                     0.0s\n",
      "\u001b[0m\u001b[34m => => transferring dockerfile: 124B                                       0.0s\n",
      "\u001b[0m => [internal] load metadata for docker.io/library/ubuntu:latest           0.1s\n",
      "\u001b[?25h\u001b[1A\u001b[1A\u001b[1A\u001b[1A\u001b[1A\u001b[1A\u001b[0G\u001b[?25l[+] Building 0.3s (2/3)                                          docker:default\n",
      "\u001b[34m => [internal] load .dockerignore                                          0.0s\n",
      "\u001b[0m\u001b[34m => => transferring context: 2B                                            0.0s\n",
      "\u001b[0m\u001b[34m => [internal] load build definition from dockerfile_1                     0.0s\n",
      "\u001b[0m\u001b[34m => => transferring dockerfile: 124B                                       0.0s\n",
      "\u001b[0m => [internal] load metadata for docker.io/library/ubuntu:latest           0.2s\n",
      "\u001b[?25h\u001b[1A\u001b[1A\u001b[1A\u001b[1A\u001b[1A\u001b[1A\u001b[0G\u001b[?25l[+] Building 0.4s (2/3)                                          docker:default\n",
      "\u001b[34m => [internal] load .dockerignore                                          0.0s\n",
      "\u001b[0m\u001b[34m => => transferring context: 2B                                            0.0s\n",
      "\u001b[0m\u001b[34m => [internal] load build definition from dockerfile_1                     0.0s\n",
      "\u001b[0m\u001b[34m => => transferring dockerfile: 124B                                       0.0s\n",
      "\u001b[0m => [internal] load metadata for docker.io/library/ubuntu:latest           0.4s\n",
      "\u001b[?25h\u001b[1A\u001b[1A\u001b[1A\u001b[1A\u001b[1A\u001b[1A\u001b[0G\u001b[?25l[+] Building 0.6s (2/3)                                          docker:default\n",
      "\u001b[34m => [internal] load .dockerignore                                          0.0s\n",
      "\u001b[0m\u001b[34m => => transferring context: 2B                                            0.0s\n",
      "\u001b[0m\u001b[34m => [internal] load build definition from dockerfile_1                     0.0s\n",
      "\u001b[0m\u001b[34m => => transferring dockerfile: 124B                                       0.0s\n",
      "\u001b[0m => [internal] load metadata for docker.io/library/ubuntu:latest           0.5s\n",
      "\u001b[?25h\u001b[1A\u001b[1A\u001b[1A\u001b[1A\u001b[1A\u001b[1A\u001b[0G\u001b[?25l[+] Building 0.7s (2/3)                                          docker:default\n",
      "\u001b[34m => [internal] load .dockerignore                                          0.0s\n",
      "\u001b[0m\u001b[34m => => transferring context: 2B                                            0.0s\n",
      "\u001b[0m\u001b[34m => [internal] load build definition from dockerfile_1                     0.0s\n",
      "\u001b[0m\u001b[34m => => transferring dockerfile: 124B                                       0.0s\n",
      "\u001b[0m => [internal] load metadata for docker.io/library/ubuntu:latest           0.7s\n",
      "\u001b[?25h\u001b[1A\u001b[1A\u001b[1A\u001b[1A\u001b[1A\u001b[1A\u001b[0G\u001b[?25l[+] Building 0.9s (2/3)                                          docker:default\n",
      "\u001b[34m => [internal] load .dockerignore                                          0.0s\n",
      "\u001b[0m\u001b[34m => => transferring context: 2B                                            0.0s\n",
      "\u001b[0m\u001b[34m => [internal] load build definition from dockerfile_1                     0.0s\n",
      "\u001b[0m\u001b[34m => => transferring dockerfile: 124B                                       0.0s\n",
      "\u001b[0m => [internal] load metadata for docker.io/library/ubuntu:latest           0.8s\n",
      "\u001b[?25h\u001b[1A\u001b[1A\u001b[1A\u001b[1A\u001b[1A\u001b[1A\u001b[0G\u001b[?25l[+] Building 1.0s (3/3)                                          docker:default\n",
      "\u001b[34m => [internal] load .dockerignore                                          0.0s\n",
      "\u001b[0m\u001b[34m => => transferring context: 2B                                            0.0s\n",
      "\u001b[0m\u001b[34m => [internal] load build definition from dockerfile_1                     0.0s\n",
      "\u001b[0m\u001b[34m => => transferring dockerfile: 124B                                       0.0s\n",
      "\u001b[0m\u001b[34m => [internal] load metadata for docker.io/library/ubuntu:latest           1.0s\n",
      "\u001b[0m\u001b[?25h\u001b[1A\u001b[1A\u001b[1A\u001b[1A\u001b[1A\u001b[1A\u001b[0G\u001b[?25l[+] Building 1.0s (6/6) FINISHED                                 docker:default\n",
      "\u001b[34m => [internal] load .dockerignore                                          0.0s\n",
      "\u001b[0m\u001b[34m => => transferring context: 2B                                            0.0s\n",
      "\u001b[0m\u001b[34m => [internal] load build definition from dockerfile_1                     0.0s\n",
      "\u001b[0m\u001b[34m => => transferring dockerfile: 124B                                       0.0s\n",
      "\u001b[0m\u001b[34m => [internal] load metadata for docker.io/library/ubuntu:latest           1.0s\n",
      "\u001b[0m\u001b[34m => [1/2] FROM docker.io/library/ubuntu@sha256:9b8dec3bf938bc80fbe758d856  0.0s\n",
      "\u001b[0m\u001b[34m => CACHED [2/2] RUN     apt-get update && apt-get install -qqy x11-apps   0.0s\n",
      "\u001b[0m\u001b[34m => exporting to image                                                     0.0s\n",
      "\u001b[0m\u001b[34m => => exporting layers                                                    0.0s\n",
      "\u001b[0m\u001b[34m => => writing image sha256:68c3414b8f86cffdcbe781dd3b684c879fa0a6c5689a2  0.0s\n",
      "\u001b[0m\u001b[34m => => naming to docker.io/library/ssh_image_tag_1                         0.0s\n",
      "\u001b[0m\u001b[?25h\n"
     ]
    }
   ],
   "source": [
    "docker buildx build --rm --tag ssh_image_tag_1 --file ./dockerfile_1 ."
   ]
  },
  {
   "cell_type": "markdown",
   "metadata": {},
   "source": [
    "# run docker container"
   ]
  },
  {
   "cell_type": "code",
   "execution_count": 10,
   "metadata": {
    "vscode": {
     "languageId": "shellscript"
    }
   },
   "outputs": [
    {
     "name": "stdout",
     "output_type": "stream",
     "text": [
      ":0\n"
     ]
    }
   ],
   "source": [
    "echo $DISPLAY\n",
    "docker run --rm -it --net=host --env DISPLAY=$DISPLAY ssh_image_tag_1"
   ]
  },
  {
   "cell_type": "markdown",
   "metadata": {},
   "source": [
    "# [What is docker buildx build](https://docs.docker.com/engine/reference/commandline/buildx_build/)"
   ]
  },
  {
   "cell_type": "markdown",
   "metadata": {},
   "source": [
    "# pass shell variable inside container during start"
   ]
  },
  {
   "cell_type": "code",
   "execution_count": 11,
   "metadata": {
    "vscode": {
     "languageId": "shellscript"
    }
   },
   "outputs": [
    {
     "name": "stdout",
     "output_type": "stream",
     "text": [
      "TREX\n"
     ]
    }
   ],
   "source": [
    "export SEARCH_STOCK=TREX\n",
    "docker run --env SE alpine:3 echo $SEARCH_STOCK"
   ]
  }
 ],
 "metadata": {
  "kernelspec": {
   "display_name": "Bash",
   "language": "bash",
   "name": "bash"
  },
  "language_info": {
   "codemirror_mode": "shell",
   "file_extension": ".sh",
   "mimetype": "text/x-sh",
   "name": "bash"
  }
 },
 "nbformat": 4,
 "nbformat_minor": 2
}
